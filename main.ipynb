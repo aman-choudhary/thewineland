{
 "cells": [
  {
   "cell_type": "markdown",
   "metadata": {
    "colab": {},
    "colab_type": "code",
    "id": "XCXEcpUJZCTe"
   },
   "source": [
    "# Importing the libraries"
   ]
  },
  {
   "cell_type": "code",
   "execution_count": 1,
   "metadata": {},
   "outputs": [],
   "source": [
    "import numpy as np\n",
    "import pandas as pd\n",
    "import matplotlib.pyplot as plt\n",
    "import seaborn as sns\n",
    "from sklearn.model_selection import train_test_split\n",
    "import pickle\n",
    "from sklearn.metrics import accuracy_score\n",
    "import re\n",
    "from sklearn.model_selection import GridSearchCV\n",
    "from sklearn.neighbors import KNeighborsClassifier\n",
    "from sklearn.feature_extraction.text import TfidfVectorizer"
   ]
  },
  {
   "cell_type": "code",
   "execution_count": 2,
   "metadata": {
    "colab": {},
    "colab_type": "code",
    "id": "9O6CjGUQZCTj",
    "outputId": "3295f389-a943-4796-be2d-446881cb5722"
   },
   "outputs": [],
   "source": [
    "df = pd.read_csv('train.csv')"
   ]
  },
  {
   "cell_type": "markdown",
   "metadata": {
    "colab": {},
    "colab_type": "code",
    "id": "pH4R_GqYZCTr"
   },
   "source": [
    "# Taking care of the missing data from the training data "
   ]
  },
  {
   "cell_type": "code",
   "execution_count": 3,
   "metadata": {},
   "outputs": [
    {
     "name": "stdout",
     "output_type": "stream",
     "text": [
      "user_name             19393\n",
      "country                  35\n",
      "review_title              0\n",
      "review_description        0\n",
      "designation           23647\n",
      "points                    0\n",
      "price                  5569\n",
      "province                 35\n",
      "region_1              12754\n",
      "region_2              46708\n",
      "winery                    0\n",
      "variety                   0\n",
      "dtype: int64\n"
     ]
    }
   ],
   "source": [
    "missing=df.isnull().sum()\n",
    "print(missing)"
   ]
  },
  {
   "cell_type": "code",
   "execution_count": 4,
   "metadata": {},
   "outputs": [
    {
     "data": {
      "text/plain": [
       "<matplotlib.axes._subplots.AxesSubplot at 0x1debafd5320>"
      ]
     },
     "execution_count": 4,
     "metadata": {},
     "output_type": "execute_result"
    },
    {
     "data": {
      "image/png": "[encoded data removed]",
      "text/plain": [
       "<Figure size 432x288 with 1 Axes>"
      ]
     },
     "metadata": {
      "needs_background": "light"
     },
     "output_type": "display_data"
    }
   ],
   "source": [
    "missing.plot.bar()"
   ]
  },
  {
   "cell_type": "markdown",
   "metadata": {},
   "source": [
    "Out of the 82657 samples in the training dataset we observe that features like 'user_name', 'desgination', 'region_1' and 'region_2' have missing string samples over 12,000. Replacing these missing features with the most frequent elemnt is only going to hamper the accuracy of the our model. So we've dropped these features from our training dataset."
   ]
  },
  {
   "cell_type": "code",
   "execution_count": 5,
   "metadata": {},
   "outputs": [],
   "source": [
    "del df['user_name']\n",
    "del df['designation']\n",
    "del df['region_1']\n",
    "del df['region_2']"
   ]
  },
  {
   "cell_type": "code",
   "execution_count": 6,
   "metadata": {},
   "outputs": [
    {
     "data": {
      "text/plain": [
       "country                 35\n",
       "review_title             0\n",
       "review_description       0\n",
       "points                   0\n",
       "price                 5569\n",
       "province                35\n",
       "winery                   0\n",
       "variety                  0\n",
       "dtype: int64"
      ]
     },
     "execution_count": 6,
     "metadata": {},
     "output_type": "execute_result"
    }
   ],
   "source": [
    "df.isnull().sum()"
   ]
  },
  {
   "cell_type": "markdown",
   "metadata": {},
   "source": [
    "To deal with missing data in price, we've replaced the missing data with the mean of the entire 'price' column in the dataset. The missing elements in 'country' and 'province' are very small in number with respect to the size of data. Therefore, here we have replaced the missing elements with the most frequent element in that particular feature.\n"
   ]
  },
  {
   "cell_type": "code",
   "execution_count": 7,
   "metadata": {},
   "outputs": [
    {
     "data": {
      "text/plain": [
       "country               0\n",
       "review_title          0\n",
       "review_description    0\n",
       "points                0\n",
       "price                 0\n",
       "province              0\n",
       "winery                0\n",
       "variety               0\n",
       "dtype: int64"
      ]
     },
     "execution_count": 7,
     "metadata": {},
     "output_type": "execute_result"
    }
   ],
   "source": [
    "df['price']=df.price.fillna(df.price.mean())\n",
    "df['country'] = df.country.fillna(df.country.value_counts().index[0])\n",
    "df['province'] = df.province.fillna(df.province.value_counts().index[0])\n",
    "df.isnull().sum() "
   ]
  },
  {
   "cell_type": "markdown",
   "metadata": {},
   "source": [
    "No missing data here."
   ]
  },
  {
   "cell_type": "code",
   "execution_count": 8,
   "metadata": {
    "colab": {},
    "colab_type": "code",
    "id": "AvHASSijZCTv",
    "outputId": "cc2a29ee-9447-4336-c3c8-b0e7fa0aa961"
   },
   "outputs": [
    {
     "data": {
      "text/html": [
       "<div>\n",
       "<style scoped>\n",
       "    .dataframe tbody tr th:only-of-type {\n",
       "        vertical-align: middle;\n",
       "    }\n",
       "\n",
       "    .dataframe tbody tr th {\n",
       "        vertical-align: top;\n",
       "    }\n",
       "\n",
       "    .dataframe thead th {\n",
       "        text-align: right;\n",
       "    }\n",
       "</style>\n",
       "<table border=\"1\" class=\"dataframe\">\n",
       "  <thead>\n",
       "    <tr style=\"text-align: right;\">\n",
       "      <th></th>\n",
       "      <th>country</th>\n",
       "      <th>review_title</th>\n",
       "      <th>review_description</th>\n",
       "      <th>points</th>\n",
       "      <th>price</th>\n",
       "      <th>province</th>\n",
       "      <th>winery</th>\n",
       "      <th>variety</th>\n",
       "    </tr>\n",
       "  </thead>\n",
       "  <tbody>\n",
       "    <tr>\n",
       "      <th>0</th>\n",
       "      <td>Australia</td>\n",
       "      <td>Andrew Peace 2007 Peace Family Vineyard Chardo...</td>\n",
       "      <td>Classic Chardonnay aromas of apple, pear and h...</td>\n",
       "      <td>83</td>\n",
       "      <td>10.0</td>\n",
       "      <td>Australia Other</td>\n",
       "      <td>Andrew Peace</td>\n",
       "      <td>Chardonnay</td>\n",
       "    </tr>\n",
       "    <tr>\n",
       "      <th>1</th>\n",
       "      <td>US</td>\n",
       "      <td>North by Northwest 2014 Red (Columbia Valley (...</td>\n",
       "      <td>This wine is near equal parts Syrah and Merlot...</td>\n",
       "      <td>89</td>\n",
       "      <td>15.0</td>\n",
       "      <td>Washington</td>\n",
       "      <td>North by Northwest</td>\n",
       "      <td>Red Blend</td>\n",
       "    </tr>\n",
       "    <tr>\n",
       "      <th>2</th>\n",
       "      <td>Italy</td>\n",
       "      <td>Renato Ratti 2007 Conca  (Barolo)</td>\n",
       "      <td>Barolo Conca opens with inky dark concentratio...</td>\n",
       "      <td>94</td>\n",
       "      <td>80.0</td>\n",
       "      <td>Piedmont</td>\n",
       "      <td>Renato Ratti</td>\n",
       "      <td>Nebbiolo</td>\n",
       "    </tr>\n",
       "    <tr>\n",
       "      <th>3</th>\n",
       "      <td>France</td>\n",
       "      <td>Domaine l'Ancienne Cure 2010 L'Abbaye White (B...</td>\n",
       "      <td>It's impressive what a small addition of Sauvi...</td>\n",
       "      <td>87</td>\n",
       "      <td>22.0</td>\n",
       "      <td>Southwest France</td>\n",
       "      <td>Domaine l'Ancienne Cure</td>\n",
       "      <td>Bordeaux-style White Blend</td>\n",
       "    </tr>\n",
       "    <tr>\n",
       "      <th>4</th>\n",
       "      <td>France</td>\n",
       "      <td>Château du Cèdre 2012 Le Cèdre Vintage Malbec ...</td>\n",
       "      <td>This ripe, sweet wine is rich and full of drie...</td>\n",
       "      <td>88</td>\n",
       "      <td>33.0</td>\n",
       "      <td>France Other</td>\n",
       "      <td>Château du Cèdre</td>\n",
       "      <td>Malbec</td>\n",
       "    </tr>\n",
       "  </tbody>\n",
       "</table>\n",
       "</div>"
      ],
      "text/plain": [
       "     country                                       review_title  \\\n",
       "0  Australia  Andrew Peace 2007 Peace Family Vineyard Chardo...   \n",
       "1         US  North by Northwest 2014 Red (Columbia Valley (...   \n",
       "2      Italy                  Renato Ratti 2007 Conca  (Barolo)   \n",
       "3     France  Domaine l'Ancienne Cure 2010 L'Abbaye White (B...   \n",
       "4     France  Château du Cèdre 2012 Le Cèdre Vintage Malbec ...   \n",
       "\n",
       "                                  review_description  points  price  \\\n",
       "0  Classic Chardonnay aromas of apple, pear and h...      83   10.0   \n",
       "1  This wine is near equal parts Syrah and Merlot...      89   15.0   \n",
       "2  Barolo Conca opens with inky dark concentratio...      94   80.0   \n",
       "3  It's impressive what a small addition of Sauvi...      87   22.0   \n",
       "4  This ripe, sweet wine is rich and full of drie...      88   33.0   \n",
       "\n",
       "           province                   winery                     variety  \n",
       "0   Australia Other             Andrew Peace                  Chardonnay  \n",
       "1        Washington       North by Northwest                   Red Blend  \n",
       "2          Piedmont             Renato Ratti                    Nebbiolo  \n",
       "3  Southwest France  Domaine l'Ancienne Cure  Bordeaux-style White Blend  \n",
       "4      France Other         Château du Cèdre                      Malbec  "
      ]
     },
     "execution_count": 8,
     "metadata": {},
     "output_type": "execute_result"
    }
   ],
   "source": [
    "df.head()"
   ]
  },
  {
   "cell_type": "markdown",
   "metadata": {},
   "source": [
    "# Analysis on the dependent variable: variety "
   ]
  },
  {
   "cell_type": "code",
   "execution_count": 9,
   "metadata": {
    "colab": {},
    "colab_type": "code",
    "id": "j1zxERKMZCT1",
    "outputId": "274e002a-654b-4dc6-a7ba-533c86d4d0d6"
   },
   "outputs": [
    {
     "data": {
      "text/plain": [
       "Pinot Noir                    10587\n",
       "Chardonnay                     9403\n",
       "Cabernet Sauvignon             7552\n",
       "Red Blend                      7166\n",
       "Bordeaux-style Red Blend       5497\n",
       "Riesling                       4148\n",
       "Sauvignon Blanc                4011\n",
       "Syrah                          3316\n",
       "Rosé                           2831\n",
       "Merlot                         2471\n",
       "Nebbiolo                       2242\n",
       "Zinfandel                      2209\n",
       "Sangiovese                     2165\n",
       "Malbec                         2119\n",
       "Portuguese Red                 1969\n",
       "White Blend                    1896\n",
       "Sparkling Blend                1739\n",
       "Tempranillo                    1448\n",
       "Rhône-style Red Blend          1182\n",
       "Pinot Gris                     1148\n",
       "Champagne Blend                1133\n",
       "Cabernet Franc                 1095\n",
       "Grüner Veltliner               1055\n",
       "Portuguese White                896\n",
       "Pinot Grigio                    873\n",
       "Bordeaux-style White Blend      850\n",
       "Gewürztraminer                  840\n",
       "Gamay                           816\n",
       "Name: variety, dtype: int64"
      ]
     },
     "execution_count": 9,
     "metadata": {},
     "output_type": "execute_result"
    }
   ],
   "source": [
    "df.variety.value_counts()"
   ]
  },
  {
   "cell_type": "code",
   "execution_count": 10,
   "metadata": {
    "colab": {},
    "colab_type": "code",
    "id": "McYfFVEuZCT5",
    "outputId": "710ebda3-a355-44a6-fdf0-bc490fb88962"
   },
   "outputs": [
    {
     "data": {
      "text/plain": [
       "<matplotlib.axes._subplots.AxesSubplot at 0x1dec077a668>"
      ]
     },
     "execution_count": 10,
     "metadata": {},
     "output_type": "execute_result"
    },
    {
     "data": {
      "image/png": "[encoded data removed]",
      "text/plain": [
       "<Figure size 432x288 with 1 Axes>"
      ]
     },
     "metadata": {
      "needs_background": "light"
     },
     "output_type": "display_data"
    }
   ],
   "source": [
    "dt=df.variety.value_counts()\n",
    "dt.plot.barh()"
   ]
  },
  {
   "cell_type": "markdown",
   "metadata": {},
   "source": [
    "# Average Rating: Are the users loving the service?"
   ]
  },
  {
   "cell_type": "code",
   "execution_count": 11,
   "metadata": {},
   "outputs": [
    {
     "data": {
      "text/plain": [
       "<matplotlib.axes._subplots.AxesSubplot at 0x1dec070de48>"
      ]
     },
     "execution_count": 11,
     "metadata": {},
     "output_type": "execute_result"
    },
    {
     "data": {
      "image/png": "[encoded data removed]",
      "text/plain": [
       "<Figure size 432x288 with 1 Axes>"
      ]
     },
     "metadata": {
      "needs_background": "light"
     },
     "output_type": "display_data"
    }
   ],
   "source": [
    "points=df.points\n",
    "points.plot.density()"
   ]
  },
  {
   "cell_type": "code",
   "execution_count": 12,
   "metadata": {},
   "outputs": [
    {
     "data": {
      "text/plain": [
       "<matplotlib.axes._subplots.AxesSubplot at 0x1debb39cf28>"
      ]
     },
     "execution_count": 12,
     "metadata": {},
     "output_type": "execute_result"
    },
    {
     "data": {
      "image/png": "[encoded data removed]",
      "text/plain": [
       "<Figure size 432x288 with 1 Axes>"
      ]
     },
     "metadata": {
      "needs_background": "light"
     },
     "output_type": "display_data"
    }
   ],
   "source": [
    "points=df.points.value_counts()\n",
    "points.plot.bar()"
   ]
  },
  {
   "cell_type": "code",
   "execution_count": 13,
   "metadata": {},
   "outputs": [
    {
     "data": {
      "text/plain": [
       "88.54456367881728"
      ]
     },
     "execution_count": 13,
     "metadata": {},
     "output_type": "execute_result"
    }
   ],
   "source": [
    "df.points.mean()"
   ]
  },
  {
   "cell_type": "code",
   "execution_count": 14,
   "metadata": {},
   "outputs": [
    {
     "data": {
      "text/plain": [
       "88.0"
      ]
     },
     "execution_count": 14,
     "metadata": {},
     "output_type": "execute_result"
    }
   ],
   "source": [
    "df.points.median()"
   ]
  },
  {
   "cell_type": "markdown",
   "metadata": {},
   "source": [
    "The minimum rating received is 88 (out of 100) which is very commendable as the dataset contains 80,000+ samples."
   ]
  },
  {
   "cell_type": "markdown",
   "metadata": {},
   "source": [
    "# Preprocessing the string columns of the data"
   ]
  },
  {
   "cell_type": "markdown",
   "metadata": {},
   "source": [
    "Preprocessing the strings here"
   ]
  },
  {
   "cell_type": "code",
   "execution_count": 15,
   "metadata": {},
   "outputs": [],
   "source": [
    "def preprocess(sms):\n",
    "  pattern = re.compile('[^[A-Za-z\\s]')\n",
    "  sms = re.sub(pattern,' ',sms)\n",
    "  sms = re.sub('\\s+',' ',sms)\n",
    "  sms = sms.lower()\n",
    "  return sms"
   ]
  },
  {
   "cell_type": "code",
   "execution_count": 16,
   "metadata": {},
   "outputs": [],
   "source": [
    "df['review_title']= df['review_title'].map(lambda x :preprocess(x))\n",
    "df['review_description']= df['review_description'].map(lambda x :preprocess(x))"
   ]
  },
  {
   "cell_type": "markdown",
   "metadata": {},
   "source": [
    "Taking care of the stopwords"
   ]
  },
  {
   "cell_type": "code",
   "execution_count": 17,
   "metadata": {},
   "outputs": [],
   "source": [
    "from nltk.corpus import stopwords\n",
    "stop = stopwords.words('english')\n",
    "df['review_title'] = df['review_title'].apply(lambda x: ' '.join([item for item in x.split() if item not in stop]))\n",
    "df['review_description'] = df['review_description'].apply(lambda x: ' '.join([item for item in x.split() if item not in stop]))"
   ]
  },
  {
   "cell_type": "code",
   "execution_count": 18,
   "metadata": {},
   "outputs": [
    {
     "data": {
      "text/html": [
       "<div>\n",
       "<style scoped>\n",
       "    .dataframe tbody tr th:only-of-type {\n",
       "        vertical-align: middle;\n",
       "    }\n",
       "\n",
       "    .dataframe tbody tr th {\n",
       "        vertical-align: top;\n",
       "    }\n",
       "\n",
       "    .dataframe thead th {\n",
       "        text-align: right;\n",
       "    }\n",
       "</style>\n",
       "<table border=\"1\" class=\"dataframe\">\n",
       "  <thead>\n",
       "    <tr style=\"text-align: right;\">\n",
       "      <th></th>\n",
       "      <th>country</th>\n",
       "      <th>review_title</th>\n",
       "      <th>review_description</th>\n",
       "      <th>points</th>\n",
       "      <th>price</th>\n",
       "      <th>province</th>\n",
       "      <th>winery</th>\n",
       "      <th>variety</th>\n",
       "    </tr>\n",
       "  </thead>\n",
       "  <tbody>\n",
       "    <tr>\n",
       "      <th>0</th>\n",
       "      <td>Australia</td>\n",
       "      <td>andrew peace peace family vineyard chardonnay ...</td>\n",
       "      <td>classic chardonnay aromas apple pear hay lead ...</td>\n",
       "      <td>83</td>\n",
       "      <td>10.0</td>\n",
       "      <td>Australia Other</td>\n",
       "      <td>Andrew Peace</td>\n",
       "      <td>Chardonnay</td>\n",
       "    </tr>\n",
       "    <tr>\n",
       "      <th>1</th>\n",
       "      <td>US</td>\n",
       "      <td>north northwest red columbia valley wa</td>\n",
       "      <td>wine near equal parts syrah merlot balance cab...</td>\n",
       "      <td>89</td>\n",
       "      <td>15.0</td>\n",
       "      <td>Washington</td>\n",
       "      <td>North by Northwest</td>\n",
       "      <td>Red Blend</td>\n",
       "    </tr>\n",
       "    <tr>\n",
       "      <th>2</th>\n",
       "      <td>Italy</td>\n",
       "      <td>renato ratti conca barolo</td>\n",
       "      <td>barolo conca opens inky dark concentration soo...</td>\n",
       "      <td>94</td>\n",
       "      <td>80.0</td>\n",
       "      <td>Piedmont</td>\n",
       "      <td>Renato Ratti</td>\n",
       "      <td>Nebbiolo</td>\n",
       "    </tr>\n",
       "    <tr>\n",
       "      <th>3</th>\n",
       "      <td>France</td>\n",
       "      <td>domaine l ancienne cure l abbaye white bergera...</td>\n",
       "      <td>impressive small addition sauvignon gris musca...</td>\n",
       "      <td>87</td>\n",
       "      <td>22.0</td>\n",
       "      <td>Southwest France</td>\n",
       "      <td>Domaine l'Ancienne Cure</td>\n",
       "      <td>Bordeaux-style White Blend</td>\n",
       "    </tr>\n",
       "    <tr>\n",
       "      <th>4</th>\n",
       "      <td>France</td>\n",
       "      <td>ch teau du c dre le c dre vintage malbec vin d...</td>\n",
       "      <td>ripe sweet wine rich full dried fresh fruit fl...</td>\n",
       "      <td>88</td>\n",
       "      <td>33.0</td>\n",
       "      <td>France Other</td>\n",
       "      <td>Château du Cèdre</td>\n",
       "      <td>Malbec</td>\n",
       "    </tr>\n",
       "  </tbody>\n",
       "</table>\n",
       "</div>"
      ],
      "text/plain": [
       "     country                                       review_title  \\\n",
       "0  Australia  andrew peace peace family vineyard chardonnay ...   \n",
       "1         US             north northwest red columbia valley wa   \n",
       "2      Italy                          renato ratti conca barolo   \n",
       "3     France  domaine l ancienne cure l abbaye white bergera...   \n",
       "4     France  ch teau du c dre le c dre vintage malbec vin d...   \n",
       "\n",
       "                                  review_description  points  price  \\\n",
       "0  classic chardonnay aromas apple pear hay lead ...      83   10.0   \n",
       "1  wine near equal parts syrah merlot balance cab...      89   15.0   \n",
       "2  barolo conca opens inky dark concentration soo...      94   80.0   \n",
       "3  impressive small addition sauvignon gris musca...      87   22.0   \n",
       "4  ripe sweet wine rich full dried fresh fruit fl...      88   33.0   \n",
       "\n",
       "           province                   winery                     variety  \n",
       "0   Australia Other             Andrew Peace                  Chardonnay  \n",
       "1        Washington       North by Northwest                   Red Blend  \n",
       "2          Piedmont             Renato Ratti                    Nebbiolo  \n",
       "3  Southwest France  Domaine l'Ancienne Cure  Bordeaux-style White Blend  \n",
       "4      France Other         Château du Cèdre                      Malbec  "
      ]
     },
     "execution_count": 18,
     "metadata": {},
     "output_type": "execute_result"
    }
   ],
   "source": [
    "df.head()"
   ]
  },
  {
   "cell_type": "markdown",
   "metadata": {
    "colab_type": "text",
    "id": "-TMNDvYfZCT8"
   },
   "source": [
    "# Splitting the dataset"
   ]
  },
  {
   "cell_type": "code",
   "execution_count": 19,
   "metadata": {},
   "outputs": [],
   "source": [
    "nlp=df['review_title']+df['country']+df['province']+df['review_description']+df['winery']\n",
    "y = df.variety\n",
    "X_train, X_val, y_train, y_val = train_test_split(nlp, y, test_size = 0.25, random_state = 0)"
   ]
  },
  {
   "cell_type": "markdown",
   "metadata": {},
   "source": [
    "# Vectorization of the string after preprocessing"
   ]
  },
  {
   "cell_type": "code",
   "execution_count": 20,
   "metadata": {},
   "outputs": [],
   "source": [
    "vectorizer = TfidfVectorizer()\n",
    "X_train = vectorizer.fit_transform(X_train)\n",
    "X_val = vectorizer.transform(X_val)"
   ]
  },
  {
   "cell_type": "markdown",
   "metadata": {},
   "source": [
    "LinearSVC performed the best on the validation dataset after modeling the dataset on various classification algorithms like Logistic Regression, Naive Bayes, Random Forest, Decision Tree and rbf SVC. "
   ]
  },
  {
   "cell_type": "markdown",
   "metadata": {},
   "source": [
    "# Modeling the data"
   ]
  },
  {
   "cell_type": "code",
   "execution_count": 21,
   "metadata": {
    "colab": {},
    "colab_type": "code",
    "id": "EFN5j-5RZCT9"
   },
   "outputs": [
    {
     "name": "stdout",
     "output_type": "stream",
     "text": [
      "[[1233    3    4   27    0    0    0    0    0    0    4    1    0    0\n",
      "     4    6    0   82    0    0    0    0    0    0    2    0    0    0]\n",
      " [  20  164    0    0    0    0    0    0    0    0    0    0    0    0\n",
      "     0    0    0    0    0    0    0    0    7    0    0    0    6    0]\n",
      " [   1    0  252    2    1    0    0    0    0    0    1    0    0    0\n",
      "     0    0    0    3    0    0    0    0    0    0    1    0    0    0]\n",
      " [  13    0    0 1901    0    0    0    0    0    1    3    0    0    0\n",
      "     0    1    0   11    0    0    2    0    0    0    1    0    0    0]\n",
      " [   0    0    0    0  259    9    0    0    0    0    0    0    0    0\n",
      "     4    0    0    0    0    0    3    1    5    6    0    0    0    0]\n",
      " [   2    0    0    0    2 2368    3    1    0    0    0    0    0    1\n",
      "    13    0    0    0    0    1    0    0    2    5    0    0    1    0]\n",
      " [   2    0    0    0    0    2  200    0    0    0    0    0    0    0\n",
      "     4    1    0    0    0    0    0    0    0    0    0    0    0    0]\n",
      " [   0    0    0    0    0    0    0  218    0    0    0    0    0    0\n",
      "     0    0    0    0    0    0    0    0    0    0    0    0    0    0]\n",
      " [   0    0    0    0    0    0    0    0  252    0    0    0    0    0\n",
      "     0    0    0    0    0    0    0    0    0    0    0    0    0    0]\n",
      " [   1    0    0    2    0    0    0    0    0  528    0    0    0    0\n",
      "     0    1    0    2    0    0    2    0    0    0    1    0    0    1]\n",
      " [  10    0    0   11    0    0    0    0    0    0  576    1    0    0\n",
      "     0    0    0    6    0    0    0    3    0    1    0    0    0    0]\n",
      " [   0    0    0    0    0    0    0    0    0    0    0  542    0    0\n",
      "     0    0    0    4    0    0    0    2    0    0    0    0    0    0]\n",
      " [   0    0    0    0    0    0    0    0    0    0    0    0  220    0\n",
      "     0    0    0    0    0    0    1    0    0    0    0    0    0    0]\n",
      " [   0    0    0    0    0    0    0    0    0    0    0    0    0  323\n",
      "     0    0    0    0    0    0    0    0    0    0    0    0    0    0]\n",
      " [   3    0    0    0    2    6    1    0    0    0    0    0    0    0\n",
      "  2600    0    0    0    0    0   11    0    5    1    1    0    0    0]\n",
      " [   0    0    0    0    0    0    0    0    0    0    0    0    0    0\n",
      "     2  475    0    4    0    0    2    0    0    0    0    0    0    0]\n",
      " [   0    0    0    0    0    2    0    0    0    0    0    0    0    0\n",
      "     0    3  222    0    0    0    0    0    0    0    0    0    1    0]\n",
      " [  70    0    5   26    0    0    0    0    0   14    6    5    1    0\n",
      "    16    3    0 1564   27    0    4   50    0    0   14   18    1    2]\n",
      " [   6    0    0    2    0    0    0    0    0    0    0    0    0    0\n",
      "     3    1    0   42  214    0    3    0    1    0    9    0    1    0]\n",
      " [   0    0    0    0    0    1    0    0    0    0    0    0    0    0\n",
      "     0    0    0    0    0  995    0    0    0    0    0    0    2    0]\n",
      " [   0    1    0    1    0    0    0    0    0    2    0    1    0    0\n",
      "    12    2    0    1    1    0  695    1    1    0    1    0    0    4]\n",
      " [   0    0    0    5    0    0    0    0    0    0    1    0    0    0\n",
      "     1    0    0   54    0    0    3  480    0    0    2    0    0    0]\n",
      " [   4    7    0    0    0    2    0    0    0    0    0    0    0    1\n",
      "     0    0    0    0    0    1    0    0  939    0    0    0    0    0]\n",
      " [   0    0    1    0    2    3    0    0    0    0    0    0    0    0\n",
      "     1    0    0    0    0    0    1    0    2  426    0    0    2    0]\n",
      " [   0    0    0    0    0    1    0    0    0    0    0    0    0    0\n",
      "     1    1    0    7    4    0    5    0    0    0  822    0    0    1]\n",
      " [   0    0    0    0    0    0    0    0    0    0    0    0    0    0\n",
      "     1    0    0    5    0    0    0    0    0    0    0  348    0    1]\n",
      " [   0    0    0    0    1   20    0    1    0    0    0    0    5    5\n",
      "     0    0    2    5    1    9    1    2   14    2    0    2  424    0]\n",
      " [   0    0    0    0    0    0    0    0    0    0    0    0    0    0\n",
      "     0    0    0    2    0    0    0    0    0    0    2    0    0  502]]\n",
      "                            precision    recall  f1-score   support\n",
      "\n",
      "  Bordeaux-style Red Blend      0.903     0.903     0.903      1366\n",
      "Bordeaux-style White Blend      0.937     0.832     0.882       197\n",
      "            Cabernet Franc      0.962     0.966     0.964       261\n",
      "        Cabernet Sauvignon      0.962     0.983     0.972      1933\n",
      "           Champagne Blend      0.970     0.902     0.935       287\n",
      "                Chardonnay      0.981     0.987     0.984      2399\n",
      "                     Gamay      0.980     0.957     0.969       209\n",
      "            Gewürztraminer      0.991     1.000     0.995       218\n",
      "          Grüner Veltliner      1.000     1.000     1.000       252\n",
      "                    Malbec      0.969     0.981     0.975       538\n",
      "                    Merlot      0.975     0.947     0.961       608\n",
      "                  Nebbiolo      0.985     0.989     0.987       548\n",
      "              Pinot Grigio      0.973     0.995     0.984       221\n",
      "                Pinot Gris      0.979     1.000     0.989       323\n",
      "                Pinot Noir      0.977     0.989     0.983      2630\n",
      "            Portuguese Red      0.962     0.983     0.972       483\n",
      "          Portuguese White      0.991     0.974     0.982       228\n",
      "                 Red Blend      0.873     0.857     0.865      1826\n",
      "     Rhône-style Red Blend      0.866     0.759     0.809       282\n",
      "                  Riesling      0.989     0.997     0.993       998\n",
      "                      Rosé      0.948     0.961     0.955       723\n",
      "                Sangiovese      0.891     0.879     0.885       546\n",
      "           Sauvignon Blanc      0.962     0.984     0.973       954\n",
      "           Sparkling Blend      0.966     0.973     0.969       438\n",
      "                     Syrah      0.960     0.976     0.968       842\n",
      "               Tempranillo      0.946     0.980     0.963       355\n",
      "               White Blend      0.968     0.858     0.910       494\n",
      "                 Zinfandel      0.982     0.992     0.987       506\n",
      "\n",
      "               avg / total      0.955     0.955     0.955     20665\n",
      "\n"
     ]
    }
   ],
   "source": [
    "from sklearn.svm import LinearSVC\n",
    "classifier = LinearSVC()\n",
    "classifier.fit(X_train, y_train)\n",
    "y_pred = classifier.predict(X_val)\n",
    "from sklearn import metrics\n",
    "print(metrics.confusion_matrix(y_val, y_pred))\n",
    "print(metrics.classification_report(y_val, y_pred, digits=3))"
   ]
  },
  {
   "cell_type": "markdown",
   "metadata": {},
   "source": [
    "Obtained F1 Score of 0.955 on validation dataset. "
   ]
  },
  {
   "cell_type": "markdown",
   "metadata": {},
   "source": [
    "Further, we eliminated the features one by one to see if there's some irrelavant feature. We found that the 'review_title' is sufficient enough to predict the 'variety' with an F1 score of 0.96"
   ]
  },
  {
   "cell_type": "code",
   "execution_count": 22,
   "metadata": {},
   "outputs": [],
   "source": [
    "nlp=df['review_title']\n",
    "y = df.variety\n",
    "X_train, X_val, y_train, y_val = train_test_split(nlp, y, test_size = 0.25, random_state = 0)\n"
   ]
  },
  {
   "cell_type": "code",
   "execution_count": 23,
   "metadata": {},
   "outputs": [],
   "source": [
    "vectorizer = TfidfVectorizer()\n",
    "X_train = vectorizer.fit_transform(X_train)\n",
    "X_val = vectorizer.transform(X_val)"
   ]
  },
  {
   "cell_type": "code",
   "execution_count": 24,
   "metadata": {},
   "outputs": [
    {
     "name": "stdout",
     "output_type": "stream",
     "text": [
      "[[1222    9    1    1    0    0    0    0    0    0    1    0    0    0\n",
      "     0    2    0  124    4    0    0    0    2    0    0    0    0    0]\n",
      " [  42  145    0    0    0    0    0    0    0    0    0    0    0    0\n",
      "     0    0    0    0    0    0    0    0    3    0    0    0    7    0]\n",
      " [   0    0  260    0    0    0    0    0    0    0    0    0    0    0\n",
      "     0    0    0    0    0    0    0    0    0    0    0    0    1    0]\n",
      " [   3    0    0 1929    0    0    0    0    0    0    1    0    0    0\n",
      "     0    0    0    0    0    0    0    0    0    0    0    0    0    0]\n",
      " [   0    0    0    0  282    1    0    0    0    0    0    0    0    0\n",
      "     2    0    0    0    0    0    0    0    0    2    0    0    0    0]\n",
      " [   0    0    0    0    0 2349    5    0    0    0    0    0    0    0\n",
      "    41    0    0    0    0    0    0    0    0    3    0    0    1    0]\n",
      " [   0    0    0    0    0    0  209    0    0    0    0    0    0    0\n",
      "     0    0    0    0    0    0    0    0    0    0    0    0    0    0]\n",
      " [   0    0    0    0    0    0    0  218    0    0    0    0    0    0\n",
      "     0    0    0    0    0    0    0    0    0    0    0    0    0    0]\n",
      " [   0    0    0    0    0    0    0    0  252    0    0    0    0    0\n",
      "     0    0    0    0    0    0    0    0    0    0    0    0    0    0]\n",
      " [   0    0    0    0    0    0    0    0    0  537    0    0    0    0\n",
      "     0    0    0    0    0    0    1    0    0    0    0    0    0    0]\n",
      " [   5    0    0    0    0    0    0    0    0    0  599    0    0    0\n",
      "     0    0    0    3    0    0    0    0    0    1    0    0    0    0]\n",
      " [   0    0    0    0    0    0    0    0    0    0    0  547    0    0\n",
      "     0    0    0    0    0    0    0    0    0    0    0    0    1    0]\n",
      " [   0    0    0    0    0    0    0    0    0    0    0    0  221    0\n",
      "     0    0    0    0    0    0    0    0    0    0    0    0    0    0]\n",
      " [   0    0    0    0    0    0    0    0    0    0    0    0    0  323\n",
      "     0    0    0    0    0    0    0    0    0    0    0    0    0    0]\n",
      " [   0    0    0    0    0   19    2    0    0    0    0    0    0    0\n",
      "  2592    0    0    2    0    0    0    0   12    3    0    0    0    0]\n",
      " [   0    0    0    1    0    0    0    0    0    0    0    0    0    0\n",
      "     0  477    0    3    0    0    2    0    0    0    0    0    0    0]\n",
      " [   0    0    0    0    0    0    0    0    0    0    0    0    0    0\n",
      "     0    0  226    0    0    0    0    0    0    0    0    0    2    0]\n",
      " [  98    0    2    0    0    0    0    0    0    5    1    0    1    0\n",
      "     0    0    0 1611   19    0    3   65    0    0    4   13    4    0]\n",
      " [   7    0    0    0    0    0    0    0    0    0    0    0    0    0\n",
      "     1    1    0   74  192    0    2    0    0    0    5    0    0    0]\n",
      " [   0    0    0    0    0    0    0    0    0    0    0    0    0    0\n",
      "     0    0    0    0    0  997    0    0    0    0    0    0    1    0]\n",
      " [   0    0    1    0    0    1    0    0    0    1    0    0    0    0\n",
      "     8    0    0    2    0    0  707    2    0    0    0    0    1    0]\n",
      " [   0    0    0    0    0    0    0    0    0    0    0    0    0    0\n",
      "     0    0    0   60    0    0    1  485    0    0    0    0    0    0]\n",
      " [   6    4    0    0    0    0    0    0    0    0    0    0    0    0\n",
      "     1    0    0    0    0    0    0    0  943    0    0    0    0    0]\n",
      " [   0    0    0    0    0    0    0    0    0    0    0    0    0    0\n",
      "     1    0    0    2    0    0    1    0    0  434    0    0    0    0]\n",
      " [   0    0    0    0    0    0    0    0    0    0    0    0    0    0\n",
      "     0    0    0    0    1    0    1    0    0    0  840    0    0    0]\n",
      " [   0    0    0    0    0    0    0    0    0    0    0    0    0    0\n",
      "     0    0    0    3    0    0    0    0    0    0    0  352    0    0]\n",
      " [   0    2    0    0    0    0    0    0    0    0    0    0    0    0\n",
      "     0    0    0    5    0    4    0    0    1    1    0    0  481    0]\n",
      " [   0    0    0    0    0    0    0    0    0    0    0    0    0    0\n",
      "     0    0    0    0    0    0    0    0    0    0    0    0    0  506]]\n",
      "                            precision    recall  f1-score   support\n",
      "\n",
      "  Bordeaux-style Red Blend      0.884     0.895     0.889      1366\n",
      "Bordeaux-style White Blend      0.906     0.736     0.812       197\n",
      "            Cabernet Franc      0.985     0.996     0.990       261\n",
      "        Cabernet Sauvignon      0.999     0.998     0.998      1933\n",
      "           Champagne Blend      1.000     0.983     0.991       287\n",
      "                Chardonnay      0.991     0.979     0.985      2399\n",
      "                     Gamay      0.968     1.000     0.984       209\n",
      "            Gewürztraminer      1.000     1.000     1.000       218\n",
      "          Grüner Veltliner      1.000     1.000     1.000       252\n",
      "                    Malbec      0.989     0.998     0.994       538\n",
      "                    Merlot      0.995     0.985     0.990       608\n",
      "                  Nebbiolo      1.000     0.998     0.999       548\n",
      "              Pinot Grigio      0.995     1.000     0.998       221\n",
      "                Pinot Gris      1.000     1.000     1.000       323\n",
      "                Pinot Noir      0.980     0.986     0.983      2630\n",
      "            Portuguese Red      0.994     0.988     0.991       483\n",
      "          Portuguese White      1.000     0.991     0.996       228\n",
      "                 Red Blend      0.853     0.882     0.867      1826\n",
      "     Rhône-style Red Blend      0.889     0.681     0.771       282\n",
      "                  Riesling      0.996     0.999     0.997       998\n",
      "                      Rosé      0.985     0.978     0.981       723\n",
      "                Sangiovese      0.879     0.888     0.883       546\n",
      "           Sauvignon Blanc      0.981     0.988     0.985       954\n",
      "           Sparkling Blend      0.977     0.991     0.984       438\n",
      "                     Syrah      0.989     0.998     0.993       842\n",
      "               Tempranillo      0.964     0.992     0.978       355\n",
      "               White Blend      0.964     0.974     0.969       494\n",
      "                 Zinfandel      1.000     1.000     1.000       506\n",
      "\n",
      "               avg / total      0.965     0.965     0.964     20665\n",
      "\n",
      "0.9647229615291556\n"
     ]
    }
   ],
   "source": [
    "from sklearn.svm import LinearSVC\n",
    "classifier = LinearSVC(tol=1e-05,dual=False)\n",
    "classifier.fit(X_train, y_train)\n",
    "y_pred = classifier.predict(X_val)\n",
    "from sklearn import metrics\n",
    "print(metrics.confusion_matrix(y_val, y_pred))\n",
    "print(metrics.classification_report(y_val, y_pred, digits=3))\n",
    "print(accuracy_score(y_val, y_pred))"
   ]
  },
  {
   "cell_type": "markdown",
   "metadata": {},
   "source": [
    "Obtained F1 Score of 0.964 on validation dataset after eliminating features like: 'review_description', 'winery', 'province' and 'country'"
   ]
  },
  {
   "cell_type": "markdown",
   "metadata": {},
   "source": [
    "# Modeling on test dataset"
   ]
  },
  {
   "cell_type": "code",
   "execution_count": 25,
   "metadata": {},
   "outputs": [],
   "source": [
    "test = pd.read_csv('test.csv')\n",
    "dt=test['review_title'] # this feautre gave us the best F1 score on val dataset."
   ]
  },
  {
   "cell_type": "code",
   "execution_count": 26,
   "metadata": {},
   "outputs": [
    {
     "data": {
      "text/plain": [
       "0"
      ]
     },
     "execution_count": 26,
     "metadata": {},
     "output_type": "execute_result"
    }
   ],
   "source": [
    "dt.isnull().sum()"
   ]
  },
  {
   "cell_type": "code",
   "execution_count": 27,
   "metadata": {},
   "outputs": [],
   "source": [
    "X_test = vectorizer.transform(dt)"
   ]
  },
  {
   "cell_type": "code",
   "execution_count": 28,
   "metadata": {},
   "outputs": [],
   "source": [
    "predictions = classifier.predict(X_test)\n",
    "test['variety']=predictions\n",
    "test.to_csv(r'C:\\Users\\Aman\\Desktop\\test_result.csv', index = False, header=True)"
   ]
  },
  {
   "cell_type": "markdown",
   "metadata": {},
   "source": [
    "The corresponding predicted variety is saved in 'test_result.csv' file."
   ]
  }
 ],
 "metadata": {
  "colab": {
   "name": "Intent Analysis Final.ipynb",
   "provenance": []
  },
  "kernelspec": {
   "display_name": "Python 3",
   "language": "python",
   "name": "python3"
  },
  "language_info": {
   "codemirror_mode": {
    "name": "ipython",
    "version": 3
   },
   "file_extension": ".py",
   "mimetype": "text/x-python",
   "name": "python",
   "nbconvert_exporter": "python",
   "pygments_lexer": "ipython3",
   "version": "3.7.0"
  }
 },
 "nbformat": 4,
 "nbformat_minor": 1
}
